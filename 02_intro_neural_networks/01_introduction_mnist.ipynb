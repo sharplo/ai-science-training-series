{
  "cells": [
    {
      "cell_type": "markdown",
      "metadata": {
        "id": "Lsg7yGYCKGsf"
      },
      "source": [
        "# Introduction to Neural Networks\n",
        "Author: Marieme Ngom, adapting materials from Bethany Lusch, Asad Khan, Prasanna Balaprakash, Taylor Childers, Corey Adams, Kyle Felker, and Tanwi Mallick.\n",
        "\n",
        "This tutorial will serve as a gentle introduction to neural networks and deep learning through a hands-on classification problem using the MNIST dataset.\n",
        "\n",
        "In particular, we will introduce neural networks and how to train and improve their learning capabilities.  We will use the PyTorch Python library.\n",
        "\n",
        "The [MNIST dataset](http://yann.lecun.com/exdb/mnist/) contains thousands of examples of handwritten numbers, with each digit labeled 0-9.\n",
        "<img src=\"https://github.com/sharplo/ai-science-training-series/blob/main/02_intro_neural_networks/images/mnist_task.png?raw=1\"  align=\"left\"/>\n",
        "\n"
      ]
    },
    {
      "cell_type": "code",
      "execution_count": 1,
      "metadata": {
        "id": "bh6yXK7BKGsg"
      },
      "outputs": [],
      "source": [
        "%matplotlib inline\n",
        "\n",
        "import torch\n",
        "import torchvision\n",
        "from torch import nn\n",
        "\n",
        "import numpy\n",
        "import matplotlib.pyplot as plt\n",
        "import time"
      ]
    },
    {
      "cell_type": "markdown",
      "metadata": {
        "id": "PDzbTzxKKGsh"
      },
      "source": [
        "## The MNIST dataset\n",
        "\n",
        "We will now download the dataset that contains handwritten digits. MNIST is a popular dataset, so we can download it via the PyTorch library. Note:\n",
        "- x is for the inputs (images of handwritten digits) and y is for the labels or outputs (digits 0-9)\n",
        "- We are given \"training\" and \"test\" datasets. Training datasets are used to fit the model. Test datasets are saved until the end, when we are satisfied with our model, to estimate how well our model generalizes to new data.\n",
        "\n",
        "Note that downloading it the first time might take some time.\n",
        "The data is split as follows:\n",
        "- 60,000 training examples, 10,000 test examples\n",
        "- inputs: 1 x 28 x 28 pixels\n",
        "- outputs (labels): one integer per example"
      ]
    },
    {
      "cell_type": "code",
      "execution_count": 2,
      "metadata": {
        "id": "lXdVGlBuKGsh",
        "outputId": "a8bb0c9a-a6da-4f77-b6e9-e5a7e5244da0",
        "colab": {
          "base_uri": "https://localhost:8080/"
        }
      },
      "outputs": [
        {
          "output_type": "stream",
          "name": "stdout",
          "text": [
            "Downloading http://yann.lecun.com/exdb/mnist/train-images-idx3-ubyte.gz\n",
            "Failed to download (trying next):\n",
            "<urlopen error [SSL: CERTIFICATE_VERIFY_FAILED] certificate verify failed: certificate has expired (_ssl.c:1007)>\n",
            "\n",
            "Downloading https://ossci-datasets.s3.amazonaws.com/mnist/train-images-idx3-ubyte.gz\n",
            "Downloading https://ossci-datasets.s3.amazonaws.com/mnist/train-images-idx3-ubyte.gz to data/MNIST/raw/train-images-idx3-ubyte.gz\n"
          ]
        },
        {
          "output_type": "stream",
          "name": "stderr",
          "text": [
            "100%|██████████| 9.91M/9.91M [00:00<00:00, 14.9MB/s]\n"
          ]
        },
        {
          "output_type": "stream",
          "name": "stdout",
          "text": [
            "Extracting data/MNIST/raw/train-images-idx3-ubyte.gz to data/MNIST/raw\n",
            "\n",
            "Downloading http://yann.lecun.com/exdb/mnist/train-labels-idx1-ubyte.gz\n",
            "Failed to download (trying next):\n",
            "<urlopen error [SSL: CERTIFICATE_VERIFY_FAILED] certificate verify failed: certificate has expired (_ssl.c:1007)>\n",
            "\n",
            "Downloading https://ossci-datasets.s3.amazonaws.com/mnist/train-labels-idx1-ubyte.gz\n",
            "Downloading https://ossci-datasets.s3.amazonaws.com/mnist/train-labels-idx1-ubyte.gz to data/MNIST/raw/train-labels-idx1-ubyte.gz\n"
          ]
        },
        {
          "output_type": "stream",
          "name": "stderr",
          "text": [
            "100%|██████████| 28.9k/28.9k [00:00<00:00, 445kB/s]\n"
          ]
        },
        {
          "output_type": "stream",
          "name": "stdout",
          "text": [
            "Extracting data/MNIST/raw/train-labels-idx1-ubyte.gz to data/MNIST/raw\n",
            "\n",
            "Downloading http://yann.lecun.com/exdb/mnist/t10k-images-idx3-ubyte.gz\n",
            "Failed to download (trying next):\n",
            "<urlopen error [SSL: CERTIFICATE_VERIFY_FAILED] certificate verify failed: certificate has expired (_ssl.c:1007)>\n",
            "\n",
            "Downloading https://ossci-datasets.s3.amazonaws.com/mnist/t10k-images-idx3-ubyte.gz\n",
            "Downloading https://ossci-datasets.s3.amazonaws.com/mnist/t10k-images-idx3-ubyte.gz to data/MNIST/raw/t10k-images-idx3-ubyte.gz\n"
          ]
        },
        {
          "output_type": "stream",
          "name": "stderr",
          "text": [
            "100%|██████████| 1.65M/1.65M [00:00<00:00, 3.53MB/s]\n"
          ]
        },
        {
          "output_type": "stream",
          "name": "stdout",
          "text": [
            "Extracting data/MNIST/raw/t10k-images-idx3-ubyte.gz to data/MNIST/raw\n",
            "\n",
            "Downloading http://yann.lecun.com/exdb/mnist/t10k-labels-idx1-ubyte.gz\n",
            "Failed to download (trying next):\n",
            "<urlopen error [SSL: CERTIFICATE_VERIFY_FAILED] certificate verify failed: certificate has expired (_ssl.c:1007)>\n",
            "\n",
            "Downloading https://ossci-datasets.s3.amazonaws.com/mnist/t10k-labels-idx1-ubyte.gz\n",
            "Downloading https://ossci-datasets.s3.amazonaws.com/mnist/t10k-labels-idx1-ubyte.gz to data/MNIST/raw/t10k-labels-idx1-ubyte.gz\n"
          ]
        },
        {
          "output_type": "stream",
          "name": "stderr",
          "text": [
            "100%|██████████| 4.54k/4.54k [00:00<00:00, 4.95MB/s]"
          ]
        },
        {
          "output_type": "stream",
          "name": "stdout",
          "text": [
            "Extracting data/MNIST/raw/t10k-labels-idx1-ubyte.gz to data/MNIST/raw\n",
            "\n"
          ]
        },
        {
          "output_type": "stream",
          "name": "stderr",
          "text": [
            "\n"
          ]
        }
      ],
      "source": [
        "training_data = torchvision.datasets.MNIST(\n",
        "    root=\"data\",\n",
        "    train=True,\n",
        "    download=True,\n",
        "    transform=torchvision.transforms.ToTensor()\n",
        ")\n",
        "\n",
        "test_data = torchvision.datasets.MNIST(\n",
        "    root=\"data\",\n",
        "    train=False,\n",
        "    download=True,\n",
        "    transform=torchvision.transforms.ToTensor()\n",
        ")"
      ]
    },
    {
      "cell_type": "code",
      "execution_count": 3,
      "metadata": {
        "id": "-5DcYp-dKGsh"
      },
      "outputs": [],
      "source": [
        "train_size = int(0.8 * len(training_data))  # 80% for training\n",
        "val_size = len(training_data) - train_size  # Remaining 20% for validation\n",
        "training_data, validation_data = torch.utils.data.random_split(training_data, [train_size, val_size], generator=torch.Generator().manual_seed(55))"
      ]
    },
    {
      "cell_type": "code",
      "execution_count": 4,
      "metadata": {
        "id": "bItMMKtPKGsk",
        "outputId": "5c7217a0-7d7e-4fa4-8171-9e07558d5b45",
        "colab": {
          "base_uri": "https://localhost:8080/"
        }
      },
      "outputs": [
        {
          "output_type": "stream",
          "name": "stdout",
          "text": [
            "MNIST data loaded: train: 48000  examples, validation:  12000 examples, test: 10000 examples\n",
            "Input shape torch.Size([1, 28, 28])\n"
          ]
        }
      ],
      "source": [
        "print('MNIST data loaded: train:',len(training_data),' examples, validation: ', len(validation_data), 'examples, test:',len(test_data), 'examples')\n",
        "print('Input shape', training_data[0][0].shape)"
      ]
    },
    {
      "cell_type": "markdown",
      "metadata": {
        "id": "XgPB133HKGsl"
      },
      "source": [
        "Let's take a closer look. Here are the first 10 training digits:"
      ]
    },
    {
      "cell_type": "code",
      "execution_count": 5,
      "metadata": {
        "id": "vqlAsJv6KGsl",
        "outputId": "0ae19f82-1663-4a60-fc79-4c1e4e058fd3",
        "colab": {
          "base_uri": "https://localhost:8080/",
          "height": 125
        }
      },
      "outputs": [
        {
          "output_type": "display_data",
          "data": {
            "text/plain": [
              "<Figure size 1000x100 with 10 Axes>"
            ],
            "image/png": "[encoded data removed]"
          },
          "metadata": {}
        }
      ],
      "source": [
        "pltsize=1\n",
        "plt.figure(figsize=(10*pltsize, pltsize))\n",
        "\n",
        "for i in range(10):\n",
        "    plt.subplot(1,10,i+1)\n",
        "    plt.axis('off')\n",
        "    plt.imshow(numpy.reshape(training_data[i][0], (28, 28)), cmap=\"gray\")\n",
        "    plt.title('Class: '+str(training_data[i][1]))"
      ]
    },
    {
      "cell_type": "markdown",
      "metadata": {
        "id": "EZ6kDn4GKGsl"
      },
      "source": [
        "# Generalities:\n",
        "To train our classifier, we need (besides the data):\n",
        "- A model that depend on parameters $\\mathbf{\\theta}$. Here we are going to use neural networks.\n",
        "- A loss function $J(\\mathbf{\\theta})$ to measure the capabilities of the model.\n",
        "- An optimization method."
      ]
    },
    {
      "cell_type": "markdown",
      "metadata": {
        "id": "GXcFi9SlKGsm"
      },
      "source": [
        "# Linear Model\n",
        "Let's begin with a simple linear model: linear regression, like last week.\n",
        "We add one complication: each example is a vector (flattened image), so the \"slope\" multiplication becomes a dot product. If the target output is a vector as well, then the multiplication becomes matrix multiplication.\n",
        "\n",
        "Note, like before, we consider multiple examples at once, adding another dimension to the input.\n",
        "\n",
        "\n",
        " <img src=\"https://github.com/sharplo/ai-science-training-series/blob/main/02_intro_neural_networks/images/LinearModel_1.png?raw=1\"  align=\"center\"/>\n",
        "\n",
        "\n",
        "\n",
        "The linear layers in PyTorch perform a basic $xW + b$. These \"fully connected\" layers connect each input to each output with some weight parameter. We wouldn't expect a simple linear model $f(x) = xW+b$ directly outputting the class label and minimizing mean squared error to work well - the model would output labels like 3.55 and 2.11 instead of skipping to integers."
      ]
    },
    {
      "cell_type": "markdown",
      "metadata": {
        "id": "Z30yauwKKGsm"
      },
      "source": [
        "We now need:\n",
        "- A loss function $J(\\theta)$ where $\\theta$ is the list of parameters (here W and b). Last week, we used mean squared error (MSE), but this week let's make two changes that make more sense for classification:\n",
        "    - Change the output to be a length-10 vector of class probabilities (0 to 1, adding to 1).\n",
        "    - Cross entropy as the loss function, which is typical for classification. You can read more [here](https://gombru.github.io/2018/05/23/cross_entropy_loss/).\n",
        "\n",
        "- An optimization method or optimizer such as the stochastic gradient descent (sgd) method, the Adam optimizer, RMSprop, Adagrad etc. Let's start with stochastic gradient descent (sgd), like last week. For far more information about more advanced optimizers than basic SGD, with some cool animations, see https://ruder.io/optimizing-gradient-descent/ or https://distill.pub/2017/momentum/.\n",
        "\n",
        "- A learning rate. As we learned last week, the learning rate controls how far we move during each step."
      ]
    },
    {
      "cell_type": "code",
      "execution_count": 6,
      "metadata": {
        "id": "6qt9YvvtKGsn"
      },
      "outputs": [],
      "source": [
        "class LinearClassifier(nn.Module):\n",
        "\n",
        "    def __init__(self):\n",
        "        super().__init__()\n",
        "\n",
        "        # First, we need to convert the input image to a vector by using\n",
        "        # nn.Flatten(). For MNIST, it means the second dimension 28*28 becomes 784.\n",
        "        self.flatten = nn.Flatten()\n",
        "\n",
        "        # Here, we add a fully connected (\"dense\") layer that has 28 x 28 = 784 input nodes\n",
        "        #(one for each pixel in the input image) and 10 output nodes (for probabilities of each class).\n",
        "        self.layer_1 = nn.Linear(28*28, 10)\n",
        "\n",
        "    def forward(self, x):\n",
        "\n",
        "        x = self.flatten(x)\n",
        "        x = self.layer_1(x)\n",
        "\n",
        "        return x"
      ]
    },
    {
      "cell_type": "code",
      "execution_count": 7,
      "metadata": {
        "id": "oKnyz7qKKGsn",
        "outputId": "921919c5-de37-45f3-e20c-0a755193af69",
        "colab": {
          "base_uri": "https://localhost:8080/"
        }
      },
      "outputs": [
        {
          "output_type": "stream",
          "name": "stdout",
          "text": [
            "LinearClassifier(\n",
            "  (flatten): Flatten(start_dim=1, end_dim=-1)\n",
            "  (layer_1): Linear(in_features=784, out_features=10, bias=True)\n",
            ")\n"
          ]
        }
      ],
      "source": [
        "linear_model = LinearClassifier()\n",
        "print(linear_model)\n",
        "\n",
        "loss_fn = nn.CrossEntropyLoss()\n",
        "optimizer = torch.optim.SGD(linear_model.parameters(), lr=0.05)"
      ]
    },
    {
      "cell_type": "markdown",
      "metadata": {
        "id": "0mq7OTn4KGsn"
      },
      "source": [
        "# Learning\n",
        "Now we are ready to train our first model. A training step is comprised of:\n",
        "- A forward pass: the input is passed through the network\n",
        "- Backpropagation: A backward pass to compute the gradient $\\frac{\\partial J}{\\partial \\mathbf{W}}$ of the loss function with respect to the parameters of the network.\n",
        "- Weight updates $\\mathbf{W} = \\mathbf{W} - \\alpha \\frac{\\partial J}{\\partial \\mathbf{W}} $ where $\\alpha$ is the learning rate.\n",
        "\n",
        "How many steps do we take?\n",
        "- The batch size corresponds to the number of training examples in one pass (forward + backward). A smaller batch size allows the model to learn from individual examples but takes longer to train. A larger batch size requires fewer steps but may result in the model not capturing the nuances in the data. The higher the batch size, the more memory you will require.  \n",
        "- An epoch means one pass through the whole training data (looping over the batches). Using few epochs can lead to underfitting and using too many can lead to overfitting.\n",
        "- The choice of batch size and learning rate are important for performance, generalization and accuracy in deep learning.\n",
        "\n",
        "\n",
        "\n",
        "\n"
      ]
    },
    {
      "cell_type": "code",
      "execution_count": 32,
      "metadata": {
        "id": "lZCRyGCnKGsn"
      },
      "outputs": [],
      "source": [
        "batch_size = 128\n",
        "\n",
        "# The dataloader makes our dataset iterable\n",
        "train_dataloader = torch.utils.data.DataLoader(training_data, batch_size=batch_size)\n",
        "val_dataloader = torch.utils.data.DataLoader(validation_data, batch_size=batch_size)"
      ]
    },
    {
      "cell_type": "code",
      "execution_count": 9,
      "metadata": {
        "id": "oM0ZD0NrKGsn"
      },
      "outputs": [],
      "source": [
        "def train_one_epoch(dataloader, model, loss_fn, optimizer):\n",
        "    model.train()\n",
        "    for batch, (X, y) in enumerate(dataloader):\n",
        "        # forward pass\n",
        "        pred = model(X)\n",
        "        loss = loss_fn(pred, y)\n",
        "\n",
        "        # backward pass calculates gradients\n",
        "        loss.backward()\n",
        "\n",
        "        # take one step with these gradients\n",
        "        optimizer.step()\n",
        "\n",
        "        # resets the gradients\n",
        "        optimizer.zero_grad()"
      ]
    },
    {
      "cell_type": "code",
      "execution_count": 10,
      "metadata": {
        "id": "FAygiZ29KGsn"
      },
      "outputs": [],
      "source": [
        "def evaluate(dataloader, model, loss_fn):\n",
        "    # Set the model to evaluation mode - some NN pieces behave differently during training\n",
        "    # Unnecessary in this situation but added for best practices\n",
        "    model.eval()\n",
        "    size = len(dataloader.dataset)\n",
        "    num_batches = len(dataloader)\n",
        "    loss, correct = 0, 0\n",
        "\n",
        "    # We can save computation and memory by not calculating gradients here - we aren't optimizing\n",
        "    with torch.no_grad():\n",
        "        # loop over all of the batches\n",
        "        for X, y in dataloader:\n",
        "            pred = model(X)\n",
        "            loss += loss_fn(pred, y).item()\n",
        "            # how many are correct in this batch? Tracking for accuracy\n",
        "            correct += (pred.argmax(1) == y).type(torch.float).sum().item()\n",
        "\n",
        "    loss /= num_batches\n",
        "    correct /= size\n",
        "\n",
        "    accuracy = 100*correct\n",
        "    return accuracy, loss"
      ]
    },
    {
      "cell_type": "code",
      "execution_count": 11,
      "metadata": {
        "id": "C1RdKaA1KGso",
        "outputId": "35816624-9680-4c0d-9c24-3fcda1db0fd6",
        "colab": {
          "base_uri": "https://localhost:8080/"
        }
      },
      "outputs": [
        {
          "output_type": "stream",
          "name": "stdout",
          "text": [
            "Epoch 0: training loss: 0.5026447114149729, accuracy: 87.61041666666667\n",
            "Epoch 0: val. loss: 0.49491233806660834, val. accuracy: 87.53333333333333\n",
            "Epoch 1: training loss: 0.42204866170883176, accuracy: 89.00833333333334\n",
            "Epoch 1: val. loss: 0.41283906393862785, val. accuracy: 88.78333333333333\n",
            "Epoch 2: training loss: 0.38794964269797005, accuracy: 89.70833333333333\n",
            "Epoch 2: val. loss: 0.3782030128418131, val. accuracy: 89.54166666666666\n",
            "Epoch 3: training loss: 0.3679007425308228, accuracy: 90.11041666666667\n",
            "Epoch 3: val. loss: 0.35798612791807094, val. accuracy: 89.90833333333333\n",
            "Epoch 4: training loss: 0.35426408584912616, accuracy: 90.41458333333333\n",
            "Epoch 4: val. loss: 0.3443594738206965, val. accuracy: 90.225\n",
            "CPU times: user 1min 19s, sys: 428 ms, total: 1min 19s\n",
            "Wall time: 1min 23s\n"
          ]
        }
      ],
      "source": [
        "%%time\n",
        "\n",
        "epochs = 5\n",
        "train_acc_all = []\n",
        "val_acc_all = []\n",
        "for j in range(epochs):\n",
        "    train_one_epoch(train_dataloader, linear_model, loss_fn, optimizer)\n",
        "\n",
        "    # checking on the training loss and accuracy once per epoch\n",
        "    acc, loss = evaluate(train_dataloader, linear_model, loss_fn)\n",
        "    train_acc_all.append(acc)\n",
        "    print(f\"Epoch {j}: training loss: {loss}, accuracy: {acc}\")\n",
        "\n",
        "    # checking on the validation loss and accuracy once per epoch\n",
        "    val_acc, val_loss = evaluate(val_dataloader, linear_model, loss_fn)\n",
        "    val_acc_all.append(val_acc)\n",
        "    print(f\"Epoch {j}: val. loss: {val_loss}, val. accuracy: {val_acc}\")"
      ]
    },
    {
      "cell_type": "code",
      "execution_count": 12,
      "metadata": {
        "id": "_zwijZk-KGso",
        "outputId": "107e465a-bb09-4cb8-c6e6-f069fd907509",
        "colab": {
          "base_uri": "https://localhost:8080/",
          "height": 867
        }
      },
      "outputs": [
        {
          "output_type": "execute_result",
          "data": {
            "text/plain": [
              "<matplotlib.legend.Legend at 0x7a3d437dfbe0>"
            ]
          },
          "metadata": {},
          "execution_count": 12
        },
        {
          "output_type": "display_data",
          "data": {
            "text/plain": [
              "<Figure size 1000x1000 with 1 Axes>"
            ],
            "image/png": "[encoded data removed]"
          },
          "metadata": {}
        }
      ],
      "source": [
        "pltsize=1\n",
        "plt.figure(figsize=(10*pltsize, 10 * pltsize))\n",
        "plt.plot(range(epochs), train_acc_all,label = 'Training Acc.' )\n",
        "plt.plot(range(epochs), val_acc_all, label = 'Validation Acc.' )\n",
        "plt.xlabel('Epoch #')\n",
        "plt.ylabel('Loss')\n",
        "plt.legend()"
      ]
    },
    {
      "cell_type": "code",
      "execution_count": 13,
      "metadata": {
        "id": "ovgpbprpKGso",
        "outputId": "f9789395-8470-4113-fbee-b5f4cfff1eda",
        "colab": {
          "base_uri": "https://localhost:8080/",
          "height": 125
        }
      },
      "outputs": [
        {
          "output_type": "display_data",
          "data": {
            "text/plain": [
              "<Figure size 1000x100 with 10 Axes>"
            ],
            "image/png": "[encoded data removed]"
          },
          "metadata": {}
        }
      ],
      "source": [
        "# Visualize how the model is doing on the first 10 examples\n",
        "pltsize=1\n",
        "plt.figure(figsize=(10*pltsize, pltsize))\n",
        "linear_model.eval()\n",
        "batch = next(iter(train_dataloader))\n",
        "predictions = linear_model(batch[0])\n",
        "\n",
        "for i in range(10):\n",
        "    plt.subplot(1,10,i+1)\n",
        "    plt.axis('off')\n",
        "    plt.imshow(batch[0][i,0,:,:], cmap=\"gray\")\n",
        "    plt.title('%d' % predictions[i,:].argmax())"
      ]
    },
    {
      "cell_type": "markdown",
      "metadata": {
        "id": "DKphKwjMKGso"
      },
      "source": [
        "Exercise: How can you improve the accuracy? Some things you might consider: increasing the number of epochs, changing the learning rate, etc."
      ]
    },
    {
      "cell_type": "markdown",
      "metadata": {
        "id": "bneBYrgIKGso"
      },
      "source": [
        "# Prediction\n",
        "\n",
        "Let's see how our model generalizes to the unseen test data.\n",
        "\n"
      ]
    },
    {
      "cell_type": "code",
      "execution_count": 14,
      "metadata": {
        "id": "77GPO1bWKGso"
      },
      "outputs": [],
      "source": [
        "#create dataloader for test data\n",
        "# The dataloader makes our dataset iterable\n",
        "batch_size_test = 256\n",
        "test_dataloader = torch.utils.data.DataLoader(test_data, batch_size=batch_size_test)"
      ]
    },
    {
      "cell_type": "code",
      "execution_count": 15,
      "metadata": {
        "id": "aXMpa470KGso",
        "outputId": "3784d34b-d550-4c5e-f046-9872860b1479",
        "colab": {
          "base_uri": "https://localhost:8080/"
        }
      },
      "outputs": [
        {
          "output_type": "stream",
          "name": "stdout",
          "text": [
            "Test loss: 0.3329, test accuracy: 90.95%\n"
          ]
        }
      ],
      "source": [
        "acc_test, loss_test = evaluate(test_dataloader, linear_model, loss_fn)\n",
        "print(\"Test loss: %.4f, test accuracy: %.2f%%\" % (loss_test, acc_test))"
      ]
    },
    {
      "cell_type": "markdown",
      "metadata": {
        "id": "5tcm8pmCKGsp"
      },
      "source": [
        "We can now take a closer look at the results.\n",
        "\n",
        "Let's define a helper function to show the failure cases of our classifier."
      ]
    },
    {
      "cell_type": "code",
      "execution_count": 16,
      "metadata": {
        "id": "5wJeHmogKGsp"
      },
      "outputs": [],
      "source": [
        "def show_failures(model, dataloader, maxtoshow=10):\n",
        "    model.eval()\n",
        "    batch = next(iter(dataloader))\n",
        "    predictions = model(batch[0])\n",
        "\n",
        "    rounded = predictions.argmax(1)\n",
        "    errors = rounded!=batch[1]\n",
        "    print('Showing max', maxtoshow, 'first failures. '\n",
        "          'The predicted class is shown first and the correct class in parentheses.')\n",
        "    ii = 0\n",
        "    plt.figure(figsize=(maxtoshow, 1))\n",
        "    for i in range(batch[0].shape[0]):\n",
        "        if ii>=maxtoshow:\n",
        "            break\n",
        "        if errors[i]:\n",
        "            plt.subplot(1, maxtoshow, ii+1)\n",
        "            plt.axis('off')\n",
        "            plt.imshow(batch[0][i,0,:,:], cmap=\"gray\")\n",
        "            plt.title(\"%d (%d)\" % (rounded[i], batch[1][i]))\n",
        "            ii = ii + 1"
      ]
    },
    {
      "cell_type": "markdown",
      "metadata": {
        "id": "zXr6avyIKGsp"
      },
      "source": [
        "Here are the first 10 images from the test data that this small model classified to a wrong class:\n",
        "\n"
      ]
    },
    {
      "cell_type": "code",
      "execution_count": 17,
      "metadata": {
        "id": "YKG2MmbDKGsp",
        "outputId": "4b2d12dc-6235-45be-e6cc-82b2a04a53f2",
        "colab": {
          "base_uri": "https://localhost:8080/",
          "height": 142
        }
      },
      "outputs": [
        {
          "output_type": "stream",
          "name": "stdout",
          "text": [
            "Showing max 10 first failures. The predicted class is shown first and the correct class in parentheses.\n"
          ]
        },
        {
          "output_type": "display_data",
          "data": {
            "text/plain": [
              "<Figure size 1000x100 with 10 Axes>"
            ],
            "image/png": "[encoded data removed]"
          },
          "metadata": {}
        }
      ],
      "source": [
        "show_failures(linear_model, test_dataloader)"
      ]
    },
    {
      "cell_type": "markdown",
      "metadata": {
        "id": "UpdFcgRxKGsp"
      },
      "source": [
        "<!-- # Exercise:\n",
        "- Try changing the loss function,\n",
        "- Try changing the optimizer -->"
      ]
    },
    {
      "cell_type": "markdown",
      "metadata": {
        "id": "bSsbOltXKGsp"
      },
      "source": [
        "# Multilayer Model\n",
        "Our linear model isn't enough for high accuracy on this dataset. To improve the model, we often need to add more layers and nonlinearities.\n",
        "<img src=\"https://github.com/sharplo/ai-science-training-series/blob/main/02_intro_neural_networks/images/shallow_nn.png?raw=1\"  align=\"left\"/>\n",
        "\n",
        "The output of this NN can be written as\n",
        "\\begin{equation}\\label{eq: NN1d}\n",
        "  \\hat{u}(x) = \\sigma_2(\\sigma_1(\\mathbf{x}\\mathbf{W}_1 + \\mathbf{b}_1)\\mathbf{W}_2 + \\mathbf{b}_2),\n",
        "\\end{equation}\n",
        "where $\\mathbf{x}$ is the input, $\\mathbf{W}_j$ are the weights of the neural network, $\\sigma_j$ the (nonlinear) activation functions, and $\\mathbf{b}_j$ its biases. The activation function introduces the nonlinearity and makes it possible to learn more complex tasks. Desirable properties in an activation function include being differentiable, bounded, and monotonic.\n",
        "\n",
        "\n",
        "Image source: [PragatiBaheti](https://www.v7labs.com/blog/neural-networks-activation-functions)\n",
        "<img src=\"https://github.com/sharplo/ai-science-training-series/blob/main/02_intro_neural_networks/images/activation.jpeg?raw=1\"  align=\"center\"/>\n",
        "\n",
        "Adding more layers to obtain a deep neural network:\n",
        "<img src=\"https://github.com/sharplo/ai-science-training-series/blob/main/02_intro_neural_networks/images/deep_nn_annotated.jpg?raw=1\"  align=\"left\"/>\n",
        "\n",
        "\n",
        "\n",
        "# Important things to know\n",
        "Deep Neural networks can be overly flexible/complicated and \"overfit\" your data, just like fitting overly complicated polynomials:\n",
        "<img src=\"https://github.com/sharplo/ai-science-training-series/blob/main/02_intro_neural_networks/images/bias_vs_variance.png?raw=1\"  align=\"left\"/>\n",
        "\n",
        "\n",
        "Vizualization wrt to the accuracy and loss (Image source: [Baeldung](https://www.baeldung.com/cs/ml-underfitting-overfitting)):\n",
        "<img src=\"https://github.com/sharplo/ai-science-training-series/blob/main/02_intro_neural_networks/images/acc_under_over.webp?raw=1\"  align=\"center\"/>\n",
        "\n",
        "\n",
        "To improve the generalization of our model on previously unseen data, we employ a technique known as regularization, which constrains our optimization problem in order to discourage complex models.\n",
        "\n",
        "  - Dropout is the commonly used regularization technique. The Dropout layer randomly sets input units to 0 with a frequency of rate at each step during training time, which helps prevent overfitting.\n",
        "  - Penalizing the loss function by adding a term such as $\\lambda ||\\mathbf{W}||^2$ is alsp a commonly used regularization technique. This helps \"control\" the magnitude of the weights of the network.\n",
        "    \n",
        "Vanishing gradients: Gradients become small as they propagate backward through the layers. Squashing activation functions like sigmoid or tanh could cause this.\n",
        "\n",
        "Exploding gradients: Gradients grow exponentially usually due to \"poor\" weight initialization.\n",
        "\n",
        "<!--  <img src=\"images/test_data_rule.png\" width=\"800\" hight=\"500\" align=\"center\"/>\n",
        "  -->"
      ]
    },
    {
      "cell_type": "markdown",
      "metadata": {
        "id": "Tv-E-6EjKGsp"
      },
      "source": [
        "We can now implement a deep network in PyTorch. nn.Dropout() performs the Dropout operation mentioned earlier"
      ]
    },
    {
      "cell_type": "code",
      "execution_count": 18,
      "metadata": {
        "id": "sxsSnVN8KGsq"
      },
      "outputs": [],
      "source": [
        "class NonlinearClassifier(nn.Module):\n",
        "\n",
        "    def __init__(self):\n",
        "        super().__init__()\n",
        "        self.flatten = nn.Flatten()\n",
        "        self.layers_stack = nn.Sequential(\n",
        "            nn.Linear(28*28, 50),\n",
        "            nn.ReLU(),\n",
        "            nn.Dropout(0.2),\n",
        "            nn.Linear(50, 50),\n",
        "            nn.ReLU(),\n",
        "           # nn.Dropout(0.2),\n",
        "            nn.Linear(50, 50),\n",
        "            nn.ReLU(),\n",
        "           # nn.Dropout(0.2),\n",
        "            nn.Linear(50, 10)\n",
        "        )\n",
        "\n",
        "    def forward(self, x):\n",
        "        x = self.flatten(x)\n",
        "        x = self.layers_stack(x)\n",
        "\n",
        "        return x"
      ]
    },
    {
      "cell_type": "code",
      "execution_count": 33,
      "metadata": {
        "id": "pjJ8bPC9KGsq"
      },
      "outputs": [],
      "source": [
        "nonlinear_model = NonlinearClassifier()\n",
        "loss_fn = nn.CrossEntropyLoss()\n",
        "optimizer = torch.optim.SGD(nonlinear_model.parameters(), lr=0.05)"
      ]
    },
    {
      "cell_type": "code",
      "execution_count": 34,
      "metadata": {
        "id": "cIHXZdCTKGsq",
        "outputId": "d1dcf68f-3a18-4cfc-ce16-31190665d164",
        "colab": {
          "base_uri": "https://localhost:8080/"
        }
      },
      "outputs": [
        {
          "output_type": "stream",
          "name": "stdout",
          "text": [
            "Epoch 0: training loss: 0.6507954315344493, accuracy: 82.32708333333333\n",
            "Epoch 0: val. loss: 0.6412381694671956, val. accuracy: 82.44166666666666\n",
            "Epoch 1: training loss: 0.3852620061238607, accuracy: 89.06041666666667\n",
            "Epoch 1: val. loss: 0.3777151478731886, val. accuracy: 89.00833333333334\n",
            "Epoch 2: training loss: 0.2926751535733541, accuracy: 91.56875\n",
            "Epoch 2: val. loss: 0.2890291830643694, val. accuracy: 91.425\n",
            "Epoch 3: training loss: 0.2379893139600754, accuracy: 93.21666666666667\n",
            "Epoch 3: val. loss: 0.23576199675494053, val. accuracy: 92.96666666666667\n",
            "Epoch 4: training loss: 0.21090306437015532, accuracy: 93.81875\n",
            "Epoch 4: val. loss: 0.21310296662627382, val. accuracy: 93.48333333333333\n",
            "CPU times: user 1min 1s, sys: 120 ms, total: 1min 1s\n",
            "Wall time: 1min 2s\n"
          ]
        }
      ],
      "source": [
        "%%time\n",
        "\n",
        "epochs = 5\n",
        "train_acc_all = []\n",
        "val_acc_all = []\n",
        "for j in range(epochs):\n",
        "    train_one_epoch(train_dataloader, nonlinear_model, loss_fn, optimizer)\n",
        "\n",
        "    # checking on the training loss and accuracy once per epoch\n",
        "    acc, loss = evaluate(train_dataloader, nonlinear_model, loss_fn)\n",
        "    train_acc_all.append(acc)\n",
        "    print(f\"Epoch {j}: training loss: {loss}, accuracy: {acc}\")\n",
        "\n",
        "    # checking on the validation loss and accuracy once per epoch\n",
        "    val_acc, val_loss = evaluate(val_dataloader, nonlinear_model, loss_fn)\n",
        "    val_acc_all.append(val_acc)\n",
        "    print(f\"Epoch {j}: val. loss: {val_loss}, val. accuracy: {val_acc}\")"
      ]
    },
    {
      "cell_type": "code",
      "execution_count": 35,
      "metadata": {
        "id": "723_l__4KGsq",
        "outputId": "ab24464a-fb5d-444c-c84b-9f2d9160c276",
        "colab": {
          "base_uri": "https://localhost:8080/",
          "height": 867
        }
      },
      "outputs": [
        {
          "output_type": "execute_result",
          "data": {
            "text/plain": [
              "<matplotlib.legend.Legend at 0x7a3d3807a2c0>"
            ]
          },
          "metadata": {},
          "execution_count": 35
        },
        {
          "output_type": "display_data",
          "data": {
            "text/plain": [
              "<Figure size 1000x1000 with 1 Axes>"
            ],
            "image/png": "[encoded data removed]"
          },
          "metadata": {}
        }
      ],
      "source": [
        "pltsize=1\n",
        "plt.figure(figsize=(10*pltsize, 10 * pltsize))\n",
        "plt.plot(range(epochs), train_acc_all,label = 'Training Acc.' )\n",
        "plt.plot(range(epochs), val_acc_all, label = 'Validation Acc.' )\n",
        "plt.xlabel('Epoch #')\n",
        "plt.ylabel('Loss')\n",
        "plt.legend()"
      ]
    },
    {
      "cell_type": "code",
      "source": [
        "acc_test, loss_test = evaluate(test_dataloader, nonlinear_model, loss_fn)\n",
        "print(\"Test loss: %.4f, test accuracy: %.2f%%\" % (loss_test, acc_test))"
      ],
      "metadata": {
        "id": "h3f9SnH2XF6k",
        "outputId": "dee9704f-4ada-472a-ff63-32998bac31ab",
        "colab": {
          "base_uri": "https://localhost:8080/"
        }
      },
      "execution_count": 36,
      "outputs": [
        {
          "output_type": "stream",
          "name": "stdout",
          "text": [
            "Test loss: 0.2119, test accuracy: 93.56%\n"
          ]
        }
      ]
    },
    {
      "cell_type": "code",
      "execution_count": 37,
      "metadata": {
        "id": "mKMICecXKGsq",
        "outputId": "31ed9890-f0b2-45f1-c49b-428c636a324c",
        "colab": {
          "base_uri": "https://localhost:8080/",
          "height": 142
        }
      },
      "outputs": [
        {
          "output_type": "stream",
          "name": "stdout",
          "text": [
            "Showing max 10 first failures. The predicted class is shown first and the correct class in parentheses.\n"
          ]
        },
        {
          "output_type": "display_data",
          "data": {
            "text/plain": [
              "<Figure size 1000x100 with 10 Axes>"
            ],
            "image/png": "[encoded data removed]"
          },
          "metadata": {}
        }
      ],
      "source": [
        "show_failures(nonlinear_model, test_dataloader)"
      ]
    },
    {
      "cell_type": "markdown",
      "metadata": {
        "id": "VlaCV0TvKGsr"
      },
      "source": [
        "# Recap\n",
        "To train and validate a neural network model, you need:\n",
        "- Data split into training/validation/test sets,\n",
        "- A model with parameters to learn,\n",
        "- An appropriate loss function,\n",
        "- An optimizer (with tunable parameters such as learning rate, weight decay etc.) used to learn the parameters of the model.\n"
      ]
    },
    {
      "cell_type": "markdown",
      "metadata": {
        "id": "a5_ocmPAKGsr"
      },
      "source": [
        "# Homework"
      ]
    },
    {
      "cell_type": "markdown",
      "metadata": {
        "id": "bV6mmZ-lKGsr"
      },
      "source": [
        "1. Compare the quality of your model when using different:\n",
        " - batch sizes,\n",
        " - learning rates,\n",
        " - activation functions.\n",
        "\n",
        "3. Bonus: What is a learning rate scheduler?\n",
        "\n",
        "If you have time, experiment with how to improve the model. Note: training and validation data can be used to compare models, but test data should be saved until the end as a final check of generalization."
      ]
    },
    {
      "cell_type": "markdown",
      "source": [
        "## Here is my homework"
      ],
      "metadata": {
        "id": "hCBPS2vdOnHK"
      }
    },
    {
      "cell_type": "markdown",
      "source": [
        "### Comparison of difference batch sizes"
      ],
      "metadata": {
        "id": "FHHKifTCP9uQ"
      }
    },
    {
      "cell_type": "code",
      "execution_count": 38,
      "metadata": {
        "id": "H9hU0MP-KGsr"
      },
      "outputs": [],
      "source": [
        "batch_size = 64\n",
        "\n",
        "# The dataloader makes our dataset iterable\n",
        "train_dataloader = torch.utils.data.DataLoader(training_data, batch_size=batch_size)\n",
        "val_dataloader = torch.utils.data.DataLoader(validation_data, batch_size=batch_size)\n",
        "\n",
        "# Reset the model, loss function, and optimizer\n",
        "nonlinear_model = NonlinearClassifier()\n",
        "loss_fn = nn.CrossEntropyLoss()\n",
        "optimizer = torch.optim.SGD(nonlinear_model.parameters(), lr=0.05)"
      ]
    },
    {
      "cell_type": "code",
      "source": [
        "%%time\n",
        "\n",
        "epochs = 5\n",
        "train_acc_all = []\n",
        "val_acc_all = []\n",
        "for j in range(epochs):\n",
        "    train_one_epoch(train_dataloader, nonlinear_model, loss_fn, optimizer)\n",
        "\n",
        "    # checking on the training loss and accuracy once per epoch\n",
        "    acc, loss = evaluate(train_dataloader, nonlinear_model, loss_fn)\n",
        "    train_acc_all.append(acc)\n",
        "    print(f\"Epoch {j}: training loss: {loss}, accuracy: {acc}\")\n",
        "\n",
        "    # checking on the validation loss and accuracy once per epoch\n",
        "    val_acc, val_loss = evaluate(val_dataloader, nonlinear_model, loss_fn)\n",
        "    val_acc_all.append(val_acc)\n",
        "    print(f\"Epoch {j}: val. loss: {val_loss}, val. accuracy: {val_acc}\")"
      ],
      "metadata": {
        "colab": {
          "base_uri": "https://localhost:8080/"
        },
        "id": "w-n8eg6nQQt8",
        "outputId": "2269766d-16a3-4400-aa64-6dbad56c2ba3"
      },
      "execution_count": 39,
      "outputs": [
        {
          "output_type": "stream",
          "name": "stdout",
          "text": [
            "Epoch 0: training loss: 0.3954673034151395, accuracy: 88.97500000000001\n",
            "Epoch 0: val. loss: 0.3901834213670264, val. accuracy: 88.64999999999999\n",
            "Epoch 1: training loss: 0.25496873225768407, accuracy: 92.6875\n",
            "Epoch 1: val. loss: 0.25185792576125327, val. accuracy: 92.41666666666667\n",
            "Epoch 2: training loss: 0.1934311894873778, accuracy: 94.39999999999999\n",
            "Epoch 2: val. loss: 0.19387451628659, val. accuracy: 94.125\n",
            "Epoch 3: training loss: 0.15155984774480263, accuracy: 95.53958333333334\n",
            "Epoch 3: val. loss: 0.1572010367018904, val. accuracy: 95.19166666666666\n",
            "Epoch 4: training loss: 0.13546552375579873, accuracy: 96.02083333333333\n",
            "Epoch 4: val. loss: 0.1457125985935489, val. accuracy: 95.625\n",
            "CPU times: user 1min 6s, sys: 130 ms, total: 1min 6s\n",
            "Wall time: 1min 7s\n"
          ]
        }
      ]
    },
    {
      "cell_type": "code",
      "execution_count": 40,
      "metadata": {
        "colab": {
          "base_uri": "https://localhost:8080/"
        },
        "id": "5XcaPiaLKGsr",
        "outputId": "8c7db1f4-05ed-4c76-aad2-48f45c2564bb"
      },
      "outputs": [
        {
          "output_type": "stream",
          "name": "stdout",
          "text": [
            "Test loss: 0.1400, test accuracy: 95.81%\n"
          ]
        }
      ],
      "source": [
        "acc_test, loss_test = evaluate(test_dataloader, nonlinear_model, loss_fn)\n",
        "print(\"Test loss: %.4f, test accuracy: %.2f%%\" % (loss_test, acc_test))"
      ]
    },
    {
      "cell_type": "code",
      "execution_count": 28,
      "metadata": {
        "id": "Gkd1DFW9VE-v"
      },
      "outputs": [],
      "source": [
        "batch_size = 256\n",
        "\n",
        "# The dataloader makes our dataset iterable\n",
        "train_dataloader = torch.utils.data.DataLoader(training_data, batch_size=batch_size)\n",
        "val_dataloader = torch.utils.data.DataLoader(validation_data, batch_size=batch_size)\n",
        "\n",
        "# Reset the model, loss function, and optimizer\n",
        "nonlinear_model = NonlinearClassifier()\n",
        "loss_fn = nn.CrossEntropyLoss()\n",
        "optimizer = torch.optim.SGD(nonlinear_model.parameters(), lr=0.05)"
      ]
    },
    {
      "cell_type": "code",
      "source": [
        "%%time\n",
        "\n",
        "epochs = 5\n",
        "train_acc_all = []\n",
        "val_acc_all = []\n",
        "for j in range(epochs):\n",
        "    train_one_epoch(train_dataloader, nonlinear_model, loss_fn, optimizer)\n",
        "\n",
        "    # checking on the training loss and accuracy once per epoch\n",
        "    acc, loss = evaluate(train_dataloader, nonlinear_model, loss_fn)\n",
        "    train_acc_all.append(acc)\n",
        "    print(f\"Epoch {j}: training loss: {loss}, accuracy: {acc}\")\n",
        "\n",
        "    # checking on the validation loss and accuracy once per epoch\n",
        "    val_acc, val_loss = evaluate(val_dataloader, nonlinear_model, loss_fn)\n",
        "    val_acc_all.append(val_acc)\n",
        "    print(f\"Epoch {j}: val. loss: {val_loss}, val. accuracy: {val_acc}\")"
      ],
      "metadata": {
        "outputId": "0a45ef05-b708-4d5f-d6fe-e93f76ec8ae4",
        "colab": {
          "base_uri": "https://localhost:8080/"
        },
        "id": "aOjNorW1VE-1"
      },
      "execution_count": 29,
      "outputs": [
        {
          "output_type": "stream",
          "name": "stdout",
          "text": [
            "Epoch 0: training loss: 2.0440549609508922, accuracy: 49.80416666666667\n",
            "Epoch 0: val. loss: 2.0444262281377266, val. accuracy: 50.458333333333336\n",
            "Epoch 1: training loss: 0.6491146800999946, accuracy: 80.50833333333334\n",
            "Epoch 1: val. loss: 0.6430103157428985, val. accuracy: 80.41666666666667\n",
            "Epoch 2: training loss: 0.463433730951015, accuracy: 86.90625\n",
            "Epoch 2: val. loss: 0.4566964690989636, val. accuracy: 86.90833333333333\n",
            "Epoch 3: training loss: 0.3851221646083162, accuracy: 89.06875\n",
            "Epoch 3: val. loss: 0.3788091743246038, val. accuracy: 88.93333333333334\n",
            "Epoch 4: training loss: 0.33109413919613717, accuracy: 90.675\n",
            "Epoch 4: val. loss: 0.3253387967322735, val. accuracy: 90.53333333333333\n",
            "CPU times: user 1min 6s, sys: 166 ms, total: 1min 6s\n",
            "Wall time: 1min 15s\n"
          ]
        }
      ]
    },
    {
      "cell_type": "code",
      "source": [
        "acc_test, loss_test = evaluate(test_dataloader, nonlinear_model, loss_fn)\n",
        "print(\"Test loss: %.4f, test accuracy: %.2f%%\" % (loss_test, acc_test))"
      ],
      "metadata": {
        "id": "BTK6Mz8aXUxL",
        "outputId": "b0fca39b-dee9-45d4-db6b-2239621709ca",
        "colab": {
          "base_uri": "https://localhost:8080/"
        }
      },
      "execution_count": 31,
      "outputs": [
        {
          "output_type": "stream",
          "name": "stdout",
          "text": [
            "Test loss: 0.3185, test accuracy: 90.63%\n"
          ]
        }
      ]
    },
    {
      "cell_type": "markdown",
      "source": [
        "The results after running 5 epochs using three batch sizes 64, 128, and 256 with other parameters fixed are compared. Both the training and validation accuracies decrease as the the batch size increases. The test accuracy also shows the same trend and is slightly higher than validation accuracy. These trainings take a similiar time to complete and do not show a trend for the computational performance."
      ],
      "metadata": {
        "id": "6DA-6gDHVeNq"
      }
    },
    {
      "cell_type": "markdown",
      "source": [
        "## Comparison of different learning rates"
      ],
      "metadata": {
        "id": "SPJShkZUZyka"
      }
    },
    {
      "cell_type": "code",
      "source": [
        "batch_size = 128\n",
        "\n",
        "# The dataloader makes our dataset iterable\n",
        "train_dataloader = torch.utils.data.DataLoader(training_data, batch_size=batch_size)\n",
        "val_dataloader = torch.utils.data.DataLoader(validation_data, batch_size=batch_size)\n",
        "\n",
        "# Reset the model, loss function, and optimizer\n",
        "nonlinear_model = NonlinearClassifier()\n",
        "loss_fn = nn.CrossEntropyLoss()\n",
        "optimizer = torch.optim.SGD(nonlinear_model.parameters(), lr=0.1)"
      ],
      "metadata": {
        "id": "ZfTx7NnQVd4U"
      },
      "execution_count": 42,
      "outputs": []
    },
    {
      "cell_type": "code",
      "source": [
        "%%time\n",
        "\n",
        "epochs = 5\n",
        "train_acc_all = []\n",
        "val_acc_all = []\n",
        "for j in range(epochs):\n",
        "    train_one_epoch(train_dataloader, nonlinear_model, loss_fn, optimizer)\n",
        "\n",
        "    # checking on the training loss and accuracy once per epoch\n",
        "    acc, loss = evaluate(train_dataloader, nonlinear_model, loss_fn)\n",
        "    train_acc_all.append(acc)\n",
        "    print(f\"Epoch {j}: training loss: {loss}, accuracy: {acc}\")\n",
        "\n",
        "    # checking on the validation loss and accuracy once per epoch\n",
        "    val_acc, val_loss = evaluate(val_dataloader, nonlinear_model, loss_fn)\n",
        "    val_acc_all.append(val_acc)\n",
        "    print(f\"Epoch {j}: val. loss: {val_loss}, val. accuracy: {val_acc}\")"
      ],
      "metadata": {
        "colab": {
          "base_uri": "https://localhost:8080/"
        },
        "id": "xUOm8tVFZ3TU",
        "outputId": "3508b6d5-e34c-415c-8cc8-2f432a242f1d"
      },
      "execution_count": 43,
      "outputs": [
        {
          "output_type": "stream",
          "name": "stdout",
          "text": [
            "Epoch 0: training loss: 0.41744844631354017, accuracy: 87.81666666666666\n",
            "Epoch 0: val. loss: 0.41078436517335, val. accuracy: 87.70833333333333\n",
            "Epoch 1: training loss: 0.2780057864586512, accuracy: 91.83958333333334\n",
            "Epoch 1: val. loss: 0.2691708314926066, val. accuracy: 91.825\n",
            "Epoch 2: training loss: 0.20848503973086674, accuracy: 93.80416666666666\n",
            "Epoch 2: val. loss: 0.20425501303311358, val. accuracy: 93.70833333333334\n",
            "Epoch 3: training loss: 0.1718884233534336, accuracy: 94.79375\n",
            "Epoch 3: val. loss: 0.17185299157937792, val. accuracy: 94.75833333333334\n",
            "Epoch 4: training loss: 0.14456346781055132, accuracy: 95.675\n",
            "Epoch 4: val. loss: 0.1489410731703677, val. accuracy: 95.31666666666668\n",
            "CPU times: user 1min 4s, sys: 143 ms, total: 1min 4s\n",
            "Wall time: 1min 7s\n"
          ]
        }
      ]
    },
    {
      "cell_type": "code",
      "source": [
        "acc_test, loss_test = evaluate(test_dataloader, nonlinear_model, loss_fn)\n",
        "print(\"Test loss: %.4f, test accuracy: %.2f%%\" % (loss_test, acc_test))"
      ],
      "metadata": {
        "colab": {
          "base_uri": "https://localhost:8080/"
        },
        "id": "OlIPvs7rZ9GD",
        "outputId": "dc1d1af6-0089-487d-8013-81de6f761bca"
      },
      "execution_count": 44,
      "outputs": [
        {
          "output_type": "stream",
          "name": "stdout",
          "text": [
            "Test loss: 0.1564, test accuracy: 95.13%\n"
          ]
        }
      ]
    },
    {
      "cell_type": "code",
      "source": [
        "batch_size = 128\n",
        "\n",
        "# The dataloader makes our dataset iterable\n",
        "train_dataloader = torch.utils.data.DataLoader(training_data, batch_size=batch_size)\n",
        "val_dataloader = torch.utils.data.DataLoader(validation_data, batch_size=batch_size)\n",
        "\n",
        "# Reset the model, loss function, and optimizer\n",
        "nonlinear_model = NonlinearClassifier()\n",
        "loss_fn = nn.CrossEntropyLoss()\n",
        "optimizer = torch.optim.SGD(nonlinear_model.parameters(), lr=0.2)"
      ],
      "metadata": {
        "id": "l9pZjx_qaBkT"
      },
      "execution_count": 45,
      "outputs": []
    },
    {
      "cell_type": "code",
      "source": [
        "%%time\n",
        "\n",
        "epochs = 5\n",
        "train_acc_all = []\n",
        "val_acc_all = []\n",
        "for j in range(epochs):\n",
        "    train_one_epoch(train_dataloader, nonlinear_model, loss_fn, optimizer)\n",
        "\n",
        "    # checking on the training loss and accuracy once per epoch\n",
        "    acc, loss = evaluate(train_dataloader, nonlinear_model, loss_fn)\n",
        "    train_acc_all.append(acc)\n",
        "    print(f\"Epoch {j}: training loss: {loss}, accuracy: {acc}\")\n",
        "\n",
        "    # checking on the validation loss and accuracy once per epoch\n",
        "    val_acc, val_loss = evaluate(val_dataloader, nonlinear_model, loss_fn)\n",
        "    val_acc_all.append(val_acc)\n",
        "    print(f\"Epoch {j}: val. loss: {val_loss}, val. accuracy: {val_acc}\")"
      ],
      "metadata": {
        "colab": {
          "base_uri": "https://localhost:8080/"
        },
        "id": "0iPVE6rxaBkX",
        "outputId": "4a1fc158-171d-4bbe-e995-71a5a23c54fc"
      },
      "execution_count": 46,
      "outputs": [
        {
          "output_type": "stream",
          "name": "stdout",
          "text": [
            "Epoch 0: training loss: 0.2954813644886017, accuracy: 91.10000000000001\n",
            "Epoch 0: val. loss: 0.29076888650021654, val. accuracy: 91.14166666666667\n",
            "Epoch 1: training loss: 0.1881435847580433, accuracy: 94.40625\n",
            "Epoch 1: val. loss: 0.19065603011466087, val. accuracy: 94.23333333333333\n",
            "Epoch 2: training loss: 0.14110155670841534, accuracy: 95.79583333333333\n",
            "Epoch 2: val. loss: 0.1546503259463513, val. accuracy: 95.325\n",
            "Epoch 3: training loss: 0.11680007194479307, accuracy: 96.49375\n",
            "Epoch 3: val. loss: 0.13715965399875285, val. accuracy: 95.85000000000001\n",
            "Epoch 4: training loss: 0.10725336372852326, accuracy: 96.78333333333333\n",
            "Epoch 4: val. loss: 0.13342306493444644, val. accuracy: 96.08333333333333\n",
            "CPU times: user 1min 3s, sys: 152 ms, total: 1min 3s\n",
            "Wall time: 1min 4s\n"
          ]
        }
      ]
    },
    {
      "cell_type": "code",
      "source": [
        "acc_test, loss_test = evaluate(test_dataloader, nonlinear_model, loss_fn)\n",
        "print(\"Test loss: %.4f, test accuracy: %.2f%%\" % (loss_test, acc_test))"
      ],
      "metadata": {
        "colab": {
          "base_uri": "https://localhost:8080/"
        },
        "id": "EHAqTVoJaBkZ",
        "outputId": "9a54e9ca-f50d-4a4a-ffd9-92d157949d73"
      },
      "execution_count": 47,
      "outputs": [
        {
          "output_type": "stream",
          "name": "stdout",
          "text": [
            "Test loss: 0.1282, test accuracy: 96.06%\n"
          ]
        }
      ]
    },
    {
      "cell_type": "markdown",
      "source": [
        "The results after running 5 epochs using three learning rates 0.05, 0.1, and 0.2 with other parameters fixed are compared. Both the training and validation accuracies increase when the learning rate increases. The test accuracy also shows the same trend; however, it is slightly lower than the validation accuracy for the learning rates of 0.1 and 0.02. No trend for the computational performance is observed."
      ],
      "metadata": {
        "id": "vi8CoylMZ8bQ"
      }
    },
    {
      "cell_type": "markdown",
      "source": [
        "## Comparison of different activation functions"
      ],
      "metadata": {
        "id": "9AgFuj9qcXHK"
      }
    },
    {
      "cell_type": "code",
      "source": [
        "batch_size = 128\n",
        "\n",
        "# The dataloader makes our dataset iterable\n",
        "train_dataloader = torch.utils.data.DataLoader(training_data, batch_size=batch_size)\n",
        "val_dataloader = torch.utils.data.DataLoader(validation_data, batch_size=batch_size)\n",
        "\n",
        "# A model with Tanh activation function\n",
        "class NonlinearClassifier(nn.Module):\n",
        "\n",
        "    def __init__(self):\n",
        "        super().__init__()\n",
        "        self.flatten = nn.Flatten()\n",
        "        self.layers_stack = nn.Sequential(\n",
        "            nn.Linear(28*28, 50),\n",
        "            nn.Tanh(),\n",
        "            nn.Dropout(0.2),\n",
        "            nn.Linear(50, 50),\n",
        "            nn.Tanh(),\n",
        "           # nn.Dropout(0.2),\n",
        "            nn.Linear(50, 50),\n",
        "            nn.Tanh(),\n",
        "           # nn.Dropout(0.2),\n",
        "            nn.Linear(50, 10)\n",
        "        )\n",
        "\n",
        "    def forward(self, x):\n",
        "        x = self.flatten(x)\n",
        "        x = self.layers_stack(x)\n",
        "\n",
        "        return x\n",
        "\n",
        "# Define the model, loss function, and optimizer\n",
        "nonlinear_model = NonlinearClassifier()\n",
        "loss_fn = nn.CrossEntropyLoss()\n",
        "optimizer = torch.optim.SGD(nonlinear_model.parameters(), lr=0.05)"
      ],
      "metadata": {
        "id": "Y6SSJEo5cYWG"
      },
      "execution_count": 49,
      "outputs": []
    },
    {
      "cell_type": "code",
      "source": [
        "%%time\n",
        "\n",
        "epochs = 5\n",
        "train_acc_all = []\n",
        "val_acc_all = []\n",
        "for j in range(epochs):\n",
        "    train_one_epoch(train_dataloader, nonlinear_model, loss_fn, optimizer)\n",
        "\n",
        "    # checking on the training loss and accuracy once per epoch\n",
        "    acc, loss = evaluate(train_dataloader, nonlinear_model, loss_fn)\n",
        "    train_acc_all.append(acc)\n",
        "    print(f\"Epoch {j}: training loss: {loss}, accuracy: {acc}\")\n",
        "\n",
        "    # checking on the validation loss and accuracy once per epoch\n",
        "    val_acc, val_loss = evaluate(val_dataloader, nonlinear_model, loss_fn)\n",
        "    val_acc_all.append(val_acc)\n",
        "    print(f\"Epoch {j}: val. loss: {val_loss}, val. accuracy: {val_acc}\")"
      ],
      "metadata": {
        "outputId": "9a7f00d7-789b-4966-ad40-b3f6df483561",
        "colab": {
          "base_uri": "https://localhost:8080/"
        },
        "id": "-SxxVQC4cYWJ"
      },
      "execution_count": 50,
      "outputs": [
        {
          "output_type": "stream",
          "name": "stdout",
          "text": [
            "Epoch 0: training loss: 0.583503409465154, accuracy: 85.15416666666667\n",
            "Epoch 0: val. loss: 0.5789378057134912, val. accuracy: 85.05\n",
            "Epoch 1: training loss: 0.37040153972307843, accuracy: 89.75833333333333\n",
            "Epoch 1: val. loss: 0.3608895240628973, val. accuracy: 89.83333333333333\n",
            "Epoch 2: training loss: 0.3120938074191411, accuracy: 91.18125\n",
            "Epoch 2: val. loss: 0.30427707145188715, val. accuracy: 91.24166666666666\n",
            "Epoch 3: training loss: 0.28399082922935487, accuracy: 91.89583333333333\n",
            "Epoch 3: val. loss: 0.2791499411489101, val. accuracy: 91.75\n",
            "Epoch 4: training loss: 0.2594203273057938, accuracy: 92.53333333333333\n",
            "Epoch 4: val. loss: 0.2582843304473035, val. accuracy: 92.35\n",
            "CPU times: user 1min 2s, sys: 125 ms, total: 1min 2s\n",
            "Wall time: 1min 3s\n"
          ]
        }
      ]
    },
    {
      "cell_type": "code",
      "source": [
        "acc_test, loss_test = evaluate(test_dataloader, nonlinear_model, loss_fn)\n",
        "print(\"Test loss: %.4f, test accuracy: %.2f%%\" % (loss_test, acc_test))"
      ],
      "metadata": {
        "outputId": "8edc8a69-2689-4768-ddcb-20d99aba08bc",
        "colab": {
          "base_uri": "https://localhost:8080/"
        },
        "id": "betFVAGJcYWL"
      },
      "execution_count": 51,
      "outputs": [
        {
          "output_type": "stream",
          "name": "stdout",
          "text": [
            "Test loss: 0.2566, test accuracy: 92.45%\n"
          ]
        }
      ]
    },
    {
      "cell_type": "code",
      "source": [
        "batch_size = 128\n",
        "\n",
        "# The dataloader makes our dataset iterable\n",
        "train_dataloader = torch.utils.data.DataLoader(training_data, batch_size=batch_size)\n",
        "val_dataloader = torch.utils.data.DataLoader(validation_data, batch_size=batch_size)\n",
        "\n",
        "# A model with the parametric ReLU activation function\n",
        "class NonlinearClassifier(nn.Module):\n",
        "\n",
        "    def __init__(self):\n",
        "        super().__init__()\n",
        "        self.flatten = nn.Flatten()\n",
        "        self.layers_stack = nn.Sequential(\n",
        "            nn.Linear(28*28, 50),\n",
        "            nn.PReLU(),\n",
        "            nn.Dropout(0.2),\n",
        "            nn.Linear(50, 50),\n",
        "            nn.PReLU(),\n",
        "           # nn.Dropout(0.2),\n",
        "            nn.Linear(50, 50),\n",
        "            nn.PReLU(),\n",
        "           # nn.Dropout(0.2),\n",
        "            nn.Linear(50, 10)\n",
        "        )\n",
        "\n",
        "    def forward(self, x):\n",
        "        x = self.flatten(x)\n",
        "        x = self.layers_stack(x)\n",
        "\n",
        "        return x\n",
        "\n",
        "# Reset the model, loss function, and optimizer\n",
        "nonlinear_model = NonlinearClassifier()\n",
        "loss_fn = nn.CrossEntropyLoss()\n",
        "optimizer = torch.optim.SGD(nonlinear_model.parameters(), lr=0.05)"
      ],
      "metadata": {
        "id": "ogJL7x62cZhx"
      },
      "execution_count": 52,
      "outputs": []
    },
    {
      "cell_type": "code",
      "source": [
        "%%time\n",
        "\n",
        "epochs = 5\n",
        "train_acc_all = []\n",
        "val_acc_all = []\n",
        "for j in range(epochs):\n",
        "    train_one_epoch(train_dataloader, nonlinear_model, loss_fn, optimizer)\n",
        "\n",
        "    # checking on the training loss and accuracy once per epoch\n",
        "    acc, loss = evaluate(train_dataloader, nonlinear_model, loss_fn)\n",
        "    train_acc_all.append(acc)\n",
        "    print(f\"Epoch {j}: training loss: {loss}, accuracy: {acc}\")\n",
        "\n",
        "    # checking on the validation loss and accuracy once per epoch\n",
        "    val_acc, val_loss = evaluate(val_dataloader, nonlinear_model, loss_fn)\n",
        "    val_acc_all.append(val_acc)\n",
        "    print(f\"Epoch {j}: val. loss: {val_loss}, val. accuracy: {val_acc}\")"
      ],
      "metadata": {
        "outputId": "5aa7e1df-0b56-4b0d-ee0d-8db33564e79d",
        "colab": {
          "base_uri": "https://localhost:8080/"
        },
        "id": "9bg8ehptcZh0"
      },
      "execution_count": 53,
      "outputs": [
        {
          "output_type": "stream",
          "name": "stdout",
          "text": [
            "Epoch 0: training loss: 0.5415599799950918, accuracy: 84.51458333333333\n",
            "Epoch 0: val. loss: 0.5298255047899612, val. accuracy: 84.41666666666666\n",
            "Epoch 1: training loss: 0.3663539530436198, accuracy: 89.84166666666667\n",
            "Epoch 1: val. loss: 0.35197915327041707, val. accuracy: 89.925\n",
            "Epoch 2: training loss: 0.31635322952270506, accuracy: 91.14999999999999\n",
            "Epoch 2: val. loss: 0.3056344538927078, val. accuracy: 91.05833333333334\n",
            "Epoch 3: training loss: 0.2828693660100301, accuracy: 91.95833333333333\n",
            "Epoch 3: val. loss: 0.27733401542014263, val. accuracy: 91.88333333333333\n",
            "Epoch 4: training loss: 0.26368577071030935, accuracy: 92.41875\n",
            "Epoch 4: val. loss: 0.26041911740569357, val. accuracy: 92.25\n",
            "CPU times: user 1min 2s, sys: 131 ms, total: 1min 2s\n",
            "Wall time: 1min 3s\n"
          ]
        }
      ]
    },
    {
      "cell_type": "code",
      "source": [
        "acc_test, loss_test = evaluate(test_dataloader, nonlinear_model, loss_fn)\n",
        "print(\"Test loss: %.4f, test accuracy: %.2f%%\" % (loss_test, acc_test))"
      ],
      "metadata": {
        "outputId": "a218ffa6-f830-46d5-c91b-87c3bca9c305",
        "colab": {
          "base_uri": "https://localhost:8080/"
        },
        "id": "47WecT-ocZh2"
      },
      "execution_count": 54,
      "outputs": [
        {
          "output_type": "stream",
          "name": "stdout",
          "text": [
            "Test loss: 0.2611, test accuracy: 92.32%\n"
          ]
        }
      ]
    },
    {
      "cell_type": "markdown",
      "source": [
        "The results after running 5 epochs using the ReLU, Tanh, and parametric ReLU activation functions with other parameters fixed are compared. Both the training and validation accuracies are the highest for ReLU and lowest for the parametric ReLU. The test accuracy also shows the same trend and is slightly higher than the validation accuracy for all cases. No trend for the computational performance is observed."
      ],
      "metadata": {
        "id": "j2Ghv931ew0h"
      }
    }
  ],
  "metadata": {
    "kernelspec": {
      "display_name": "Python 3",
      "name": "python3"
    },
    "language_info": {
      "codemirror_mode": {
        "name": "ipython",
        "version": 3
      },
      "file_extension": ".py",
      "mimetype": "text/x-python",
      "name": "python",
      "nbconvert_exporter": "python",
      "pygments_lexer": "ipython3",
      "version": "3.7.4"
    },
    "colab": {
      "provenance": [],
      "gpuType": "T4"
    },
    "accelerator": "GPU"
  },
  "nbformat": 4,
  "nbformat_minor": 0
}